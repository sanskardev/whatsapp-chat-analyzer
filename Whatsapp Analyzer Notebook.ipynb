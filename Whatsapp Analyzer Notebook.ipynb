{
 "cells": [
  {
   "cell_type": "code",
   "execution_count": 34,
   "id": "8dbe960f-189c-4944-98fa-d16de6eec924",
   "metadata": {},
   "outputs": [],
   "source": [
    "from langchain.chat_models import init_chat_model\n",
    "\n",
    "llm = init_chat_model(\"gemini-2.5-flash\", model_provider=\"google_genai\")"
   ]
  },
  {
   "cell_type": "code",
   "execution_count": 36,
   "id": "5d641ec5",
   "metadata": {},
   "outputs": [],
   "source": [
    "#cleaning chat\n",
    "import re\n",
    "\n",
    "chat_file = \"WhatsApp Chat with Mansimar Singh Bhatia/WhatsApp Chat with Mansimar Singh Bhatia.txt\"\n",
    "\n",
    "pattern = re.compile(r\"^(\\d{1,2}/\\d{1,2}/\\d{2}), (\\d{2}:\\d{2}) - ([^:]+): (.+)$\")\n",
    "\n",
    "messages = []\n",
    "\n",
    "with open(chat_file, encoding=\"utf-8\") as f:\n",
    "    for line in f:\n",
    "        match = pattern.match(line.strip())\n",
    "        if match:\n",
    "            date, time, sender, message = match.groups()\n",
    "            if message not in ('null',\n",
    "                               'Missed video call',\n",
    "                               'Missed voice call',\n",
    "                               'Missed group video call',\n",
    "                               'Missed group voice call'):\n",
    "                messages.append({\n",
    "                    \"date\": date,\n",
    "                    \"time\": time,\n",
    "                    \"sender\": sender,\n",
    "                    \"message\": message\n",
    "                })"
   ]
  },
  {
   "cell_type": "code",
   "execution_count": 38,
   "id": "d71eb805",
   "metadata": {},
   "outputs": [],
   "source": [
    "from datetime import datetime\n",
    "\n",
    "formatted_messages = []\n",
    "for msg in messages:\n",
    "    # convert 24h → 12h (am/pm)\n",
    "    time_24 = datetime.strptime(msg['time'], \"%H:%M\")\n",
    "    time_12 = time_24.strftime(\"%I:%M %p\").lstrip(\"0\")  # remove leading 0\n",
    "    \n",
    "    line = f\"{msg['date']}, {time_12} - {msg['sender']}: {msg['message']}\"\n",
    "    formatted_messages.append(line)\n",
    "\n",
    "cleantext = \"\\n\".join(formatted_messages)\n",
    "\n",
    "with open('cleaned_chat.txt', 'w', encoding=\"utf-8\") as out:\n",
    "    out.write(cleantext)"
   ]
  },
  {
   "cell_type": "code",
   "execution_count": 39,
   "id": "b141f001",
   "metadata": {},
   "outputs": [],
   "source": [
    "from langchain_core.documents import Document\n",
    "\n",
    "docs = [\n",
    "    Document(\n",
    "        page_content=m[\"message\"],\n",
    "        metadata={\n",
    "            \"date\": m[\"date\"],\n",
    "            \"time\": m[\"time\"],\n",
    "            \"sender\": m[\"sender\"]\n",
    "        }\n",
    "    )\n",
    "    for m in messages\n",
    "]"
   ]
  },
  {
   "cell_type": "code",
   "execution_count": 40,
   "id": "2771875b",
   "metadata": {},
   "outputs": [],
   "source": [
    "from langchain_huggingface import HuggingFaceEmbeddings\n",
    "\n",
    "from langchain_community.vectorstores import FAISS\n",
    "\n",
    "model_name = \"sentence-transformers/all-mpnet-base-v2\"\n",
    "model_kwargs = {'device': 'cpu'}\n",
    "encode_kwargs = {'normalize_embeddings': False}\n",
    "embeddings = HuggingFaceEmbeddings(\n",
    "    model_name=model_name,\n",
    "    model_kwargs=model_kwargs,\n",
    "    encode_kwargs=encode_kwargs\n",
    ")\n",
    "\n",
    "\n",
    "vectorstore = FAISS.from_documents(docs, embeddings)\n",
    "vectorstore.save_local(\"faiss_whatsapp_index\")"
   ]
  },
  {
   "cell_type": "code",
   "execution_count": null,
   "id": "0f477da6",
   "metadata": {},
   "outputs": [],
   "source": [
    "retriever = vectorstore.as_retriever()"
   ]
  },
  {
   "cell_type": "code",
   "execution_count": 44,
   "id": "eb814137",
   "metadata": {},
   "outputs": [
    {
     "data": {
      "text/plain": [
       "AIMessage(content='This is a long, casual, and informal conversation between two close friends, Mansimar Singh Bhatia and Sanskar, spanning nearly two years (October 2023 to August 2025).\\n\\nThe main themes of their communication include:\\n\\n1.  **Frequent Attempts to Connect:** Mansimar often initiates contact, asking Sanskar to call, join Discord, or just check if he\\'s awake, sometimes playfully using expletives like \"bhai,\" \"oye,\" \"randi,\" or \"bitxh.\" Sanskar frequently responds by saying he\\'s busy (in meetings, studying for an interview, or simply out).\\n2.  **Media Sharing:** Both friends frequently share YouTube links (shorts, channels), images, and videos.\\n3.  **Logistics & Travel:** They discuss train travel (including an incident with a \"crazy uncle\" on the wrong seat and finding available seats), Mansimar\\'s travel plans to Noida, and general coordination for meeting up.\\n4.  **Work & Help:** Sanskar seeks Mansimar\\'s help with a work-related document/topics, and later mentions preparing for a job interview, receiving encouragement from Mansimar.\\n5.  **Emotional Support:** A significant exchange occurs in May 2025 when Sanskar reveals he\\'s struggling with his mental state and avoidance. Mansimar responds with strong empathy and support, quoting Kanan Gill about friendship being for the \"equal distribution of sadness\" and encouraging Sanskar to talk to him.\\n6.  **Banter & Teasing:** The conversation is filled with casual banter, playful insults, and jokes, indicating a comfortable and long-standing bond despite Sanskar often being less available for immediate calls.', additional_kwargs={}, response_metadata={'prompt_feedback': {'block_reason': 0, 'safety_ratings': []}, 'finish_reason': 'STOP', 'model_name': 'gemini-2.5-flash', 'safety_ratings': []}, id='run--8666dcf6-38b5-49fe-8031-cdb8401d687f-0', usage_metadata={'input_tokens': 5101, 'output_tokens': 2585, 'total_tokens': 7686, 'input_token_details': {'cache_read': 0}, 'output_token_details': {'reasoning': 2228}})"
      ]
     },
     "execution_count": 44,
     "metadata": {},
     "output_type": "execute_result"
    }
   ],
   "source": [
    "summary_prompt = 'Summarise this conversation: ' + cleantext\n",
    "llm.invoke(summary_prompt)"
   ]
  },
  {
   "cell_type": "code",
   "execution_count": 45,
   "id": "b82d027f",
   "metadata": {},
   "outputs": [
    {
     "data": {
      "text/plain": [
       "{'query': 'summarize this conversation',\n",
       " 'context': \"10/14/23, 9:20 PM - Mansimar Singh Bhatia: Bhai\\n10/14/23, 9:21 PM - Mansimar Singh Bhatia: Bhai\\n10/14/23, 9:21 PM - Mansimar Singh Bhatia: Bahut zaroori kaam hai\\n3/10/24, 5:15 AM - Mansimar Singh Bhatia: IMG-20240310-WA0000.jpg (file attached)\\n4/16/24, 9:51 PM - Sanskar: https://youtu.be/Q8PdffUfoF0?si=PTmBLtSNlHLd7GEW\\n4/16/24, 9:53 PM - Mansimar Singh Bhatia: yeasssap\\n4/16/24, 9:54 PM - Mansimar Singh Bhatia: not available noooooo\\n4/16/24, 9:54 PM - Sanskar: Why not available?? Vpn laga le\\n4/16/24, 10:46 PM - Mansimar Singh Bhatia: oh\\n10/2/24, 12:21 AM - Mansimar Singh Bhatia: IMG-20241002-WA0000.jpg (file attached)\\n1/29/25, 9:43 PM - Sanskar: PNR-2129038747\\n1/30/25, 8:03 AM - Sanskar: Bhai uncle to crazy nikla samne wala\\n1/30/25, 8:03 AM - Sanskar: Imposter mc\\n1/30/25, 8:07 AM - Mansimar Singh Bhatia: kyun\\n1/30/25, 8:07 AM - Sanskar: Abe galat seat pe baitha tha na\\n1/30/25, 8:07 AM - Mansimar Singh Bhatia: lmao\\n1/30/25, 8:08 AM - Mansimar Singh Bhatia: khali hai 18 mein teen seats\\n1/30/25, 8:22 AM - Mansimar Singh Bhatia: 50 rupay mein aaj ka unlimited net le liya\\n1/30/25, 8:22 AM - Mansimar Singh Bhatia: im set\\n1/30/25, 8:37 AM - Mansimar Singh Bhatia: https://youtube.com/shorts/Eqtwg1CQOVI?si=JMXCLy_xsh4GfM0L\\n1/30/25, 8:42 AM - Sanskar: Lets goo\\n1/30/25, 8:43 AM - Sanskar: Koi toh aa hi jaega\\n1/30/25, 8:43 AM - Sanskar: Hume to 2 chahiye\\n1/30/25, 8:43 AM - Mansimar Singh Bhatia: haan tum log\\n1/30/25, 8:43 AM - Mansimar Singh Bhatia: aajao\\n1/30/25, 8:43 AM - Mansimar Singh Bhatia: nikal dena mkc\\n1/30/25, 8:43 AM - Sanskar: Tere ek ko mana kar diya chutiye ne lmao\\n1/30/25, 8:43 AM - Mansimar Singh Bhatia: gaslight kar dena\\n1/30/25, 8:43 AM - Mansimar Singh Bhatia: are\\n1/30/25, 8:43 AM - Mansimar Singh Bhatia: haan\\n1/30/25, 8:43 AM - Mansimar Singh Bhatia: lode ka coach ka kuch hota hai\\n1/30/25, 8:43 AM - Mansimar Singh Bhatia: chalna nhi chahta hoga\\n1/30/25, 8:44 AM - Sanskar: 🤣\\n1/30/25, 8:44 AM - Sanskar: Aalsi\\n2/14/25, 2:53 AM - Mansimar Singh Bhatia: bhai\\n2/14/25, 2:53 AM - Mansimar Singh Bhatia: oye\\n2/14/25, 2:53 AM - Mansimar Singh Bhatia: sunn\\n2/14/25, 2:53 AM - Mansimar Singh Bhatia: utha hai kya\\n2/14/25, 2:53 AM - Sanskar: Haa\\n2/14/25, 2:53 AM - Mansimar Singh Bhatia: https://youtube.com/shorts/P0NtIwrjPMY?si=ie-23qZ4n-cXbchv\\n2/19/25, 8:45 PM - Sanskar: Tu noida kab aa raha hai\\n2/19/25, 9:12 PM - Mansimar Singh Bhatia: 21 ko subah\\n2/19/25, 9:19 PM - Sanskar: 👍\\n2/21/25, 1:41 PM - Mansimar Singh Bhatia: net nhi\\n4/22/25, 10:31 PM - Mansimar Singh Bhatia: prateek saala\\n4/23/25, 11:51 AM - Sanskar: Sorry brother i was sleeping\\n4/23/25, 6:59 PM - Mansimar Singh Bhatia: 10 baje\\n4/23/25, 7:36 PM - Sanskar: Haa uske pehle raat me soya nahi tha\\n4/23/25, 7:36 PM - Sanskar: Aaj call kar fir batata hu\\n4/23/25, 11:12 PM - Mansimar Singh Bhatia: https://youtube.com/@vader-420?si=E73MeUaVmOXt_M4p\\n5/12/25, 10:18 PM - Mansimar Singh Bhatia: STK-20230224-WA0001.webp (file attached)\\n5/12/25, 10:18 PM - Mansimar Singh Bhatia: wow\\n5/12/25, 10:18 PM - Sanskar: Bahar hu thodi der me karunga\\n5/12/25, 10:18 PM - Mansimar Singh Bhatia: ok\\n5/12/25, 10:18 PM - Mansimar Singh Bhatia: bro\\n5/16/25, 6:52 PM - Mansimar Singh Bhatia: bhai\\n5/16/25, 6:52 PM - Mansimar Singh Bhatia: jab main noida aaunga na\\n5/16/25, 6:52 PM - Mansimar Singh Bhatia: mujhse milne matt aaio\\n5/17/25, 7:26 PM - Sanskar: Bhai sorry tere calls miss kar raha hoon. Kuch personal nahi hai, bas thoda mental state ka problem hai. Thoda avoidance me chal raha hu sabke sath. Bc faltu me mood off me baitha hu kisi se baat karne ka mann nahi ho raha\\n5/17/25, 7:26 PM - Sanskar: Thoda time de de mai pakka call karunga\\n5/17/25, 7:27 PM - Sanskar: Sad sad baitha rehta hu yaar thode dino se samajh nahi aa raha kya problem hai.\\n5/17/25, 8:07 PM - Mansimar Singh Bhatia: bhai\\n5/17/25, 8:07 PM - Mansimar Singh Bhatia: agar problem hai toh humse kar na baat bhai\\n5/17/25, 8:10 PM - Mansimar Singh Bhatia: jaise kanan gill ne kaha tha\\n5/17/25, 8:11 PM - Mansimar Singh Bhatia: friendships are for the equal distribution of sadness\\n5/17/25, 8:11 PM - Mansimar Singh Bhatia: hum saath mein sad baithenge\\n5/17/25, 8:53 PM - Sanskar: Haan bhai karta hu thode time me\\n5/17/25, 9:41 PM - Mansimar Singh Bhatia: ok\\n6/3/25, 3:04 AM - Sanskar: yes sir?\\n6/3/25, 3:04 AM - Mansimar Singh Bhatia: aisi hi kar raha tha\\n6/3/25, 3:05 AM - Mansimar Singh Bhatia: mujhe laga assasins creed khel raha\\n6/3/25, 3:05 AM - Sanskar: yes\\n6/3/25, 3:05 AM - Mansimar Singh Bhatia: aaja call pe\\n6/6/25, 10:58 PM - Mansimar Singh Bhatia: VID-20250606-WA0009.mp4 (file attached)\\n6/7/25, 8:00 AM - Mansimar Singh Bhatia: 4,072,644\\n6/7/25, 8:23 AM - Mansimar Singh Bhatia: https://tickets-ca.axs.com/%2f8YMKgAAAACq%2fjx2AAAAAABD%2fv%2f%2f%2fwD%2f%2f%2f%2f%2fC3Jpb3RnYW1lc2NhAP%2f%2f%2f%2f%2f%2f%2f%2f%2f%2f/shop/delivery?skin=riotgamesca%252Criotgamesca&tags=&cpch=&cpdate=&cprid=&cpid=&cpcn=&cpdid=&cpdn=&cpsrc=&intoff=&cid=&utm_source=&utm_medium=&utm_campaign=&utm_term=&utm_content=&aff=&clickref=&promocode=&originalReferringURL=&upgrade=&mkt_campaign=&irclickid=&q=1c97665e-2875-49d6-acbb-c95cdfd26ca2&p=0e3904d9-9e9c-4b2e-b90d-f59c8c94d347&ts=1749264691&c=axs&e=7054804477748862&rt=Safetynet&h=1d3b066de3019001b8b964827dc94162\\n6/12/25, 2:07 AM - Sanskar: https://www.instagram.com/p/DKplepLyndB/\\n6/19/25, 1:50 PM - Sanskar: Brother need your help\\n6/19/25, 6:20 PM - Mansimar Singh Bhatia: hanji\\n6/19/25, 6:20 PM - Mansimar Singh Bhatia: 4:20 the mere\\n6/19/25, 6:20 PM - Sanskar: I'll call you later.\\n6/19/25, 6:20 PM - Mansimar Singh Bhatia: ok\\n6/19/25, 8:08 PM - Mansimar Singh Bhatia: mujhe laga later hogaya\\n6/19/25, 8:08 PM - Mansimar Singh Bhatia: mb\\n6/19/25, 8:08 PM - Sanskar: Meeting bhai\\n6/19/25, 8:08 PM - Mansimar Singh Bhatia: abhi\\n6/19/25, 8:09 PM - Sanskar: IMG-20250619-WA0005.jpg (file attached)\\n6/19/25, 8:09 PM - Sanskar: Bc 3 ghante se baitha hu isme\\n6/19/25, 8:10 PM - Mansimar Singh Bhatia: baap re bhai\\n6/19/25, 8:10 PM - Mansimar Singh Bhatia: aisa kya discussion chal raha\\n6/19/25, 8:15 PM - Sanskar: Ruk hi nahi rahe sale\\n6/19/25, 8:48 PM - Mansimar Singh Bhatia: lol\\n6/19/25, 8:58 PM - Sanskar: DOC-20250619-WA0000. (file attached)\\n6/19/25, 8:58 PM - Sanskar: Yeh dekhna yeh sab aata hai tujhe?\\n6/19/25, 8:59 PM - Mansimar Singh Bhatia: muhskil kaam hai yeh toh\\n6/19/25, 9:04 PM - Mansimar Singh Bhatia: no way\\n6/19/25, 9:04 PM - Mansimar Singh Bhatia: abhi tak meeting chal rahi\\n6/19/25, 9:04 PM - Sanskar: Ruk jaao sir\\n6/19/25, 9:04 PM - Sanskar: Mai karunga call\\n6/19/25, 9:04 PM - Mansimar Singh Bhatia: damn theek hai mc\\n6/20/25, 8:39 PM - Mansimar Singh Bhatia: oye\\n6/20/25, 8:39 PM - Mansimar Singh Bhatia: aaja\\n6/20/25, 8:39 PM - Mansimar Singh Bhatia: disco\\n6/20/25, 8:39 PM - Sanskar: Disco?\\n6/20/25, 8:40 PM - Sanskar: Oo\\n6/20/25, 8:40 PM - Mansimar Singh Bhatia: rd\\n6/20/25, 8:40 PM - Sanskar: Rd\\n6/20/25, 8:40 PM - Sanskar: Nice\\n6/20/25, 8:40 PM - Mansimar Singh Bhatia: yes\\n6/20/25, 8:40 PM - Sanskar: Abhi meeting khatam hui hai 30 min ke baad aunga\\n6/20/25, 8:42 PM - Mansimar Singh Bhatia: ok\\n6/20/25, 9:14 PM - Mansimar Singh Bhatia: hogaya\\n6/20/25, 9:14 PM - Mansimar Singh Bhatia: 30 minutes\\n6/20/25, 9:15 PM - Mansimar Singh Bhatia: u liar\\n6/20/25, 9:15 PM - Sanskar: Bc thoda let jaane de abhi fir kobutor kobutor khelna padega\\n6/20/25, 9:15 PM - Mansimar Singh Bhatia: toh matt khel na\\n6/20/25, 9:16 PM - Sanskar: Karna to padega\\n6/20/25, 9:17 PM - Mansimar Singh Bhatia: karle fir\\n6/21/25, 5:42 AM - Mansimar Singh Bhatia: yo party boi\\n6/21/25, 5:42 AM - Mansimar Singh Bhatia: so gaya?\\n6/21/25, 5:42 AM - Mansimar Singh Bhatia: randi\\n6/21/25, 5:42 AM - Mansimar Singh Bhatia: randi\\n6/21/25, 5:42 AM - Mansimar Singh Bhatia: randi\\n6/21/25, 12:03 PM - Sanskar: Yes kal so gaya tha\\n7/5/25, 5:31 AM - Mansimar Singh Bhatia: yo\\n7/5/25, 5:31 AM - Mansimar Singh Bhatia: bitxh\\n7/5/25, 5:31 AM - Mansimar Singh Bhatia: r u up\\n7/5/25, 2:59 PM - Sanskar: no\\n7/16/25, 8:32 PM - Sanskar: discord pe hu\\n7/16/25, 8:33 PM - Mansimar Singh Bhatia: loda mera\\n7/21/25, 11:21 PM - Sanskar: Bhai kal ek interview hai padh raha hu baad me baat karunga\\n7/21/25, 11:22 PM - Mansimar Singh Bhatia: let us go bhai\\n7/21/25, 11:22 PM - Mansimar Singh Bhatia: bola na tha baap jo kehta hai voh hota\\n7/21/25, 11:22 PM - Mansimar Singh Bhatia: baap ki suna karo\\n7/21/25, 11:22 PM - Mansimar Singh Bhatia: all the best\\n7/21/25, 11:29 PM - Sanskar: 👍\\n7/21/25, 11:29 PM - Mansimar Singh Bhatia: byw\\n7/21/25, 11:29 PM - Mansimar Singh Bhatia: kahan ki\\n7/21/25, 11:29 PM - Mansimar Singh Bhatia: kaunsi company and post\\n7/21/25, 11:29 PM - Sanskar: Kal batata hu abhi hone de\\n7/21/25, 11:29 PM - Mansimar Singh Bhatia: ok\\n7/25/25, 7:53 PM - Mansimar Singh Bhatia: aaj Friday hogayi\\n8/5/25, 12:13 AM - Mansimar Singh Bhatia: VID-20250805-WA0000.mp4 (file attached)\\n8/5/25, 12:17 AM - Mansimar Singh Bhatia: VID-20250805-WA0001.mp4 (file attached)\\n8/9/25, 7:50 PM - Sanskar: bahar hu bata\\n8/9/25, 7:50 PM - Mansimar Singh Bhatia: jolly bula raha\\n8/9/25, 7:50 PM - Mansimar Singh Bhatia: kaam ke liye\\n8/9/25, 7:51 PM - Sanskar: bol 15 min me aa raha sabzi lene bahar aaya hu\\n8/10/25, 1:47 AM - Mansimar Singh Bhatia: theek hai bhai\\n8/10/25, 1:47 AM - Mansimar Singh Bhatia: kaat de\\n8/10/25, 4:18 PM - Sanskar: bc raat me 2 baje call karke attitude deta hai\\n8/10/25, 7:41 PM - Mansimar Singh Bhatia: haan\\n8/10/25, 7:41 PM - Mansimar Singh Bhatia: soya toh nhi hoga tu\\n8/10/25, 7:41 PM - Mansimar Singh Bhatia: jhoot na bolio\\n8/12/25, 8:10 PM - Mansimar Singh Bhatia: https://youtube.com/shorts/hv0JCl0dmsQ?si=O7maIkbY3Rh-sULw\\n8/12/25, 8:10 PM - Mansimar Singh Bhatia: us\\n8/13/25, 12:18 AM - Mansimar Singh Bhatia: oue\\n8/13/25, 12:18 AM - Mansimar Singh Bhatia: oye sun\\n8/13/25, 12:18 AM - Mansimar Singh Bhatia: kya kar raha\\n8/13/25, 12:18 AM - Mansimar Singh Bhatia: sun oey\\n8/13/25, 12:22 AM - Mansimar Singh Bhatia: ganda aadmi toh nhi hai tu\\n8/13/25, 12:22 AM - Mansimar Singh Bhatia: but dost\\n8/13/25, 12:22 AM - Mansimar Singh Bhatia: hmmm\\n8/13/25, 12:55 AM - Sanskar: Thoda sa ganda to hu\\n8/13/25, 12:55 AM - Mansimar Singh Bhatia: yes\\n8/13/25, 12:55 AM - Mansimar Singh Bhatia: abhi bhi call nhi kar raha\\n8/13/25, 12:55 AM - Mansimar Singh Bhatia: shayad aadmi bhi mc hai\\n8/13/25, 12:56 AM - Sanskar: Kya baat karega chhod na\\n8/13/25, 12:56 AM - Mansimar Singh Bhatia: ok\\n8/13/25, 12:56 AM - Sanskar: Gn love you ❤️\\n8/17/25, 12:50 PM - Mansimar Singh Bhatia: https://youtube.com/shorts/9O5mk5_eaaE?si=PNmV567cx4C1hRt7\",\n",
       " 'result': 'The conversation starts with someone asking what is being discussed. Another person then shares their perspective that \"friendships are for the equal distribution of sadness,\" which is met with a thoughtful \"hmmm\" and an \"are\" from another participant.',\n",
       " 'source_documents': [Document(id='09dca130-8300-495f-b214-687c269ca00d', metadata={'date': '6/19/25', 'time': '20:10', 'sender': 'Mansimar Singh Bhatia'}, page_content='aisa kya discussion chal raha'),\n",
       "  Document(id='648776df-6d97-4756-9ae2-7fa7767a125c', metadata={'date': '5/17/25', 'time': '20:11', 'sender': 'Mansimar Singh Bhatia'}, page_content='friendships are for the equal distribution of sadness'),\n",
       "  Document(id='cfa1664f-77e9-4552-b106-ad424886ab5f', metadata={'date': '8/13/25', 'time': '00:22', 'sender': 'Mansimar Singh Bhatia'}, page_content='hmmm'),\n",
       "  Document(id='edb8b1b8-a9d9-4ce0-b0b8-db8665499a63', metadata={'date': '1/30/25', 'time': '08:43', 'sender': 'Mansimar Singh Bhatia'}, page_content='are')]}"
      ]
     },
     "execution_count": 45,
     "metadata": {},
     "output_type": "execute_result"
    }
   ],
   "source": [
    "from langchain.chains import RetrievalQA\n",
    "\n",
    "chain = RetrievalQA.from_chain_type(llm = llm, \n",
    "                                    chain_type = \"stuff\",\n",
    "                                    retriever = retriever,\n",
    "                                    return_source_documents = True\n",
    "                                    )\n",
    "\n",
    "query = \"summarize this conversation\"\n",
    "\n",
    "\n",
    "chain.invoke({\"query\": query, \"context\": cleantext})"
   ]
  },
  {
   "cell_type": "code",
   "execution_count": 55,
   "id": "a6d3e87a",
   "metadata": {},
   "outputs": [
    {
     "ename": "AttributeError",
     "evalue": "from_prompts",
     "output_type": "error",
     "traceback": [
      "\u001b[31m---------------------------------------------------------------------------\u001b[39m",
      "\u001b[31mAttributeError\u001b[39m                            Traceback (most recent call last)",
      "\u001b[36mCell\u001b[39m\u001b[36m \u001b[39m\u001b[32mIn[55]\u001b[39m\u001b[32m, line 34\u001b[39m\n\u001b[32m     27\u001b[39m destination_chains = {\n\u001b[32m     28\u001b[39m     \u001b[33m\"\u001b[39m\u001b[33mqa_chain\u001b[39m\u001b[33m\"\u001b[39m: qa_chain,\n\u001b[32m     29\u001b[39m     \u001b[33m\"\u001b[39m\u001b[33msummary_chain\u001b[39m\u001b[33m\"\u001b[39m: summary_chain,\n\u001b[32m     30\u001b[39m }\n\u001b[32m     32\u001b[39m default_chain = summary_chain\n\u001b[32m---> \u001b[39m\u001b[32m34\u001b[39m router_chain = \u001b[43mLLMRouterChain\u001b[49m\u001b[43m.\u001b[49m\u001b[43mfrom_prompts\u001b[49m(\n\u001b[32m     35\u001b[39m     llm=llm,\n\u001b[32m     36\u001b[39m     prompt_infos=[qa_prompt_info, summary_prompt_info],\n\u001b[32m     37\u001b[39m     default_chain=default_chain,\n\u001b[32m     38\u001b[39m     verbose=\u001b[38;5;28;01mTrue\u001b[39;00m\n\u001b[32m     39\u001b[39m )\n",
      "\u001b[36mFile \u001b[39m\u001b[32m~\\AppData\\Roaming\\Python\\Python313\\site-packages\\pydantic\\_internal\\_model_construction.py:271\u001b[39m, in \u001b[36mModelMetaclass.__getattr__\u001b[39m\u001b[34m(self, item)\u001b[39m\n\u001b[32m    269\u001b[39m \u001b[38;5;28;01mif\u001b[39;00m private_attributes \u001b[38;5;129;01mand\u001b[39;00m item \u001b[38;5;129;01min\u001b[39;00m private_attributes:\n\u001b[32m    270\u001b[39m     \u001b[38;5;28;01mreturn\u001b[39;00m private_attributes[item]\n\u001b[32m--> \u001b[39m\u001b[32m271\u001b[39m \u001b[38;5;28;01mraise\u001b[39;00m \u001b[38;5;167;01mAttributeError\u001b[39;00m(item)\n",
      "\u001b[31mAttributeError\u001b[39m: from_prompts"
     ]
    }
   ],
   "source": [
    "from langchain.prompts import PromptTemplate\n",
    "from langchain.chains import RetrievalQA, LLMRouterChain, MultiPromptChain\n",
    "from langchain.chains.summarize import load_summarize_chain\n",
    "\n",
    "\n",
    "qa_chain = RetrievalQA.from_chain_type(\n",
    "    llm=llm,\n",
    "    retriever=retriever,\n",
    "    chain_type=\"stuff\",\n",
    "    return_source_documents=True\n",
    ")\n",
    "\n",
    "summary_chain = load_summarize_chain(llm, chain_type=\"map_reduce\")\n",
    "\n",
    "qa_prompt_info = {\n",
    "    \"name\": \"qa_chain\",\n",
    "    \"description\": \"Good for answering specific questions about who said what, dates, details in the chat.\",\n",
    "    \"chain\": qa_chain,\n",
    "}\n",
    "\n",
    "summary_prompt_info = {\n",
    "    \"name\": \"summary_chain\",\n",
    "    \"description\": \"Good for summarizing the entire conversation or giving overviews.\",\n",
    "    \"chain\": summary_chain,\n",
    "}\n",
    "\n",
    "destination_chains = {\n",
    "    \"qa_chain\": qa_chain,\n",
    "    \"summary_chain\": summary_chain,\n",
    "}\n",
    "\n",
    "default_chain = summary_chain\n",
    "\n",
    "router_chain = LLMRouterChain.from_prompts(\n",
    "    llm=llm,\n",
    "    prompt_infos=[qa_prompt_info, summary_prompt_info],\n",
    "    default_chain=default_chain,\n",
    "    verbose=True\n",
    ")"
   ]
  },
  {
   "cell_type": "code",
   "execution_count": 66,
   "id": "72d91937",
   "metadata": {},
   "outputs": [],
   "source": [
    "from langchain.prompts import PromptTemplate\n",
    "from langchain.chains.summarize import load_summarize_chain\n",
    "from langchain_core.prompts import ChatPromptTemplate\n",
    "from langchain_core.output_parsers import StrOutputParser\n",
    "\n",
    "\n",
    "qa_prompt = ChatPromptTemplate.from_messages(\n",
    "    [\n",
    "        (\"system\", \"You are an expert on answering specific questions about who said what, dates, details in the chat.\"),\n",
    "        (\"human\", \"{input}\"),\n",
    "    ]\n",
    ")\n",
    "summary_prompt = ChatPromptTemplate.from_messages(\n",
    "    [\n",
    "        (\"system\", \"You are an expert on summarizing the entire conversation or giving overviews.\"),\n",
    "        (\"human\", \"{input}\"),\n",
    "    ]\n",
    ")\n",
    "\n",
    "# Construct the chains we will route to. These format the input query\n",
    "# into the respective prompt, run it through a chat model, and cast\n",
    "# the result to a string.\n",
    "qa_chain = qa_prompt | llm | StrOutputParser()\n",
    "summary_chain = summary_prompt | llm | StrOutputParser()\n",
    "\n",
    "# Define the chain that selects which branch to route to.\n",
    "route_system = \"\"\"\n",
    "Given a raw text input to a language model, select the model prompt best suited for the input. You will be given the names of the available prompts and a description of what the prompt is best suited for.\n",
    "\n",
    "<< CANDIDATE PROMPTS >>\n",
    "\n",
    "qa_prompt: prompt seeking answer for specific questions about who said what, dates, details in the chat.\n",
    "summary_prompt: prompt seeking summary, overview or analyzing the entire conversation.\n",
    "\n",
    "<< INPUT >>\n",
    "{input}\n",
    "\n",
    "<< OUTPUT >>\n",
    "Return a JSON object with the key \"destination\" and the value being either \"qa_prompt\" or \"summary_prompt\".\n",
    "\"\"\"\n",
    "\n",
    "route_prompt = ChatPromptTemplate.from_messages(\n",
    "    [\n",
    "        (\"system\", route_system),\n",
    "        (\"human\", \"{input}\"),\n",
    "    ]\n",
    ")\n",
    "\n",
    "chain = route_prompt | llm"
   ]
  },
  {
   "cell_type": "code",
   "execution_count": 70,
   "id": "68546d8f",
   "metadata": {},
   "outputs": [
    {
     "data": {
      "text/plain": [
       "AIMessage(content='```json\\n{\\n  \"destination\": \"qa_prompt\"\\n}\\n```', additional_kwargs={}, response_metadata={'prompt_feedback': {'block_reason': 0, 'safety_ratings': []}, 'finish_reason': 'STOP', 'model_name': 'gemini-2.5-flash', 'safety_ratings': []}, id='run--08fecfb2-0443-4dba-b7b4-e1b2d4ca2638-0', usage_metadata={'input_tokens': 139, 'output_tokens': 99, 'total_tokens': 238, 'input_token_details': {'cache_read': 0}, 'output_token_details': {'reasoning': 81}})"
      ]
     },
     "execution_count": 70,
     "metadata": {},
     "output_type": "execute_result"
    }
   ],
   "source": [
    "chain.invoke(\"who are they talking about\")"
   ]
  }
 ],
 "metadata": {
  "kernelspec": {
   "display_name": "Python 3",
   "language": "python",
   "name": "python3"
  },
  "language_info": {
   "codemirror_mode": {
    "name": "ipython",
    "version": 3
   },
   "file_extension": ".py",
   "mimetype": "text/x-python",
   "name": "python",
   "nbconvert_exporter": "python",
   "pygments_lexer": "ipython3",
   "version": "3.13.2"
  }
 },
 "nbformat": 4,
 "nbformat_minor": 5
}
